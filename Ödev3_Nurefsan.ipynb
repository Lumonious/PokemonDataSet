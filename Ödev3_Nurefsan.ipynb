{
  "nbformat": 4,
  "nbformat_minor": 0,
  "metadata": {
    "colab": {
      "provenance": []
    },
    "kernelspec": {
      "name": "python3",
      "display_name": "Python 3"
    },
    "language_info": {
      "name": "python"
    }
  },
  "cells": [
    {
      "cell_type": "markdown",
      "source": [
        "## 🎓 Ödev: Pokémon Efsanevi Sınıflandırması (ML Pipeline Projesi)\n",
        "\n",
        "### 🔍 Amaç:\n",
        "\n",
        "Bir Pokémon’un istatistiksel özellikleri ve tür bilgilerine göre **efsanevi (legendary)** olup olmadığını sınıflandıracak çeşitli makine öğrenmesi modelleri geliştirin, karşılaştırın ve en iyi modeli optimize edin.\n",
        "\n",
        "---\n",
        "\n",
        "## 🔧 1. Kurulum ve Kütüphaneler\n",
        "\n",
        "* Gerekli Python kütüphanelerini içe aktarın: NumPy, Pandas, Matplotlib, Seaborn, Scikit-learn, XGBoost, LightGBM, CatBoost.\n",
        "\n",
        "---\n",
        "\n",
        "## 📥 2. Veri Yükleme ve İnceleme\n",
        "\n",
        "*Veri setini yükleyin:\n",
        "\n",
        "\n",
        "```\n",
        "\n",
        "url = \"https://raw.githubusercontent.com/veekun/pokedex/master/pokedex/data/csv/pokemon.csv\"\n",
        "pokemon_df = pd.read_csv(url)\n",
        "```\n",
        "\n",
        "\n",
        "* Veri setinin genel yapısını (`head()`, `info()`, `describe()`) kullanarak keşfedin.\n",
        "* Hedef değişkeniniz: `Legendary` sütunu.\n",
        "\n",
        "---\n",
        "\n",
        "## 🔍 3. Veri Ön İşleme\n",
        "\n",
        "* Eksik verileri kontrol edin ve gerektiğinde uygun doldurma stratejileri uygulayın.\n",
        "* Kategorik değişkenleri `LabelEncoder` veya `OneHotEncoder` ile sayısal forma çevirin.\n",
        "* Aşağıdaki yeni değişkenleri oluşturmayı düşünün:\n",
        "\n",
        "  * `Total` (istatistiklerin toplamı)\n",
        "  * `Is_Mono_Type`: Pokémon tek tipe mi sahip?\n",
        "  * `Attack_Defense_Ratio`: Saldırı / Savunma oranı\n",
        "* Gereksiz veya çok benzer değişkenleri kaldırın.\n",
        "* Hedef değişken (`Legendary`) için `LabelEncoder` uygulayın (True → 1, False → 0)\n",
        "\n",
        "---\n",
        "\n",
        "## 🔍 4. Veri Setinin Bölünmesi\n",
        "\n",
        "* Özellikler (X) ve hedef değişken (y) olarak ayırın.\n",
        "* Eğitim ve test setlerine %80-%20 oranında ayırın.\n",
        "\n",
        "---\n",
        "\n",
        "## 🧠 5. Makine Öğrenmesi Modelleri\n",
        "\n",
        "Aşağıdaki modelleri kullanarak eğitim ve tahmin yapın:\n",
        "\n",
        "* Random Forest\n",
        "* Support Vector Machine (SVM) (StandardScaler ile Pipeline içinde)\n",
        "* k-NN (StandardScaler ile Pipeline içinde)\n",
        "* XGBoost\n",
        "* LightGBM\n",
        "* CatBoost\n",
        "\n",
        "Her model için:\n",
        "\n",
        "* Eğitimi gerçekleştirin\n",
        "* Test seti üzerinde tahmin yapın\n",
        "* Doğruluk, precision, recall, F1-score metriklerini raporlayın\n",
        "* Confusion matrix'i görselleştirin\n",
        "\n",
        "---\n",
        "\n",
        "## 🏆 6. En Başarılı Modelin Belirlenmesi\n",
        "\n",
        "* Tüm modellerin doğruluk skorlarını karşılaştırın.\n",
        "* En iyi performansı gösteren modeli belirleyin.\n",
        "\n",
        "---\n",
        "\n",
        "## 🔧 7. Hiperparametre Optimizasyonu (GridSearchCV)\n",
        "\n",
        "* En iyi modeli seçtikten sonra GridSearchCV kullanarak hiperparametre optimizasyonu yapın.\n",
        "* Uygun parametre grid’ini tanımlayın.\n",
        "* `cv=5` ile çapraz doğrulama gerçekleştirin.\n",
        "* En iyi skor ve parametreleri yazdırın.\n",
        "* Optimize edilmiş modelle test setinde tekrar tahmin yapın ve metrikleri karşılaştırın.\n",
        "\n",
        "---\n",
        "\n",
        "## 📊 8. Sonuçların Karşılaştırılması ve Raporlama\n",
        "\n",
        "* Tüm modellerin skorlarını çubuk grafikle görselleştirin.\n",
        "* Hangi model neden daha iyi performans gösterdi? Yorumlayın.\n",
        "* Özellik önem skorlarını çıkarın (varsa) ve en belirleyici değişkenleri analiz edin.\n",
        "\n",
        "---\n",
        "\n",
        "## 🔁 (İsteğe Bağlı) Bonus Görevler\n",
        "\n",
        "* SMOTE veya benzeri yöntemlerle sınıf dengesizliğini düzeltin ve etkiyi gözlemleyin.\n",
        "* Modelin tahminlerini `Type1` bazında analiz edin: En çok hata yapılan tür hangisi?\n",
        "\n",
        "---\n",
        "\n",
        "## 📁 Teslim Formatı\n",
        "\n",
        "* Adım adım işlenmiş ve yorumlanmış bir `.ipynb` notebook dosyası.\n",
        "* Her adımın başında markdown hücreleriyle kısa açıklamalar.\n",
        "* Görselleştirmeler ve çıktılar eksiksiz olmalı.\n",
        "\n",
        "\n"
      ],
      "metadata": {
        "id": "xqT-ohAu2Hya"
      }
    },
    {
      "cell_type": "code",
      "execution_count": null,
      "metadata": {
        "colab": {
          "base_uri": "https://localhost:8080/"
        },
        "id": "S-ESCnuoZ0xA",
        "outputId": "b4569406-9246-4268-e603-6e38c60f485a"
      },
      "outputs": [
        {
          "output_type": "stream",
          "name": "stdout",
          "text": [
            "Requirement already satisfied: xgboost in /usr/local/lib/python3.11/dist-packages (2.1.4)\n",
            "Requirement already satisfied: lightgbm in /usr/local/lib/python3.11/dist-packages (4.5.0)\n",
            "Collecting catboost\n",
            "  Downloading catboost-1.2.8-cp311-cp311-manylinux2014_x86_64.whl.metadata (1.2 kB)\n",
            "Requirement already satisfied: numpy in /usr/local/lib/python3.11/dist-packages (from xgboost) (2.0.2)\n",
            "Requirement already satisfied: nvidia-nccl-cu12 in /usr/local/lib/python3.11/dist-packages (from xgboost) (2.21.5)\n",
            "Requirement already satisfied: scipy in /usr/local/lib/python3.11/dist-packages (from xgboost) (1.15.3)\n",
            "Requirement already satisfied: graphviz in /usr/local/lib/python3.11/dist-packages (from catboost) (0.20.3)\n",
            "Requirement already satisfied: matplotlib in /usr/local/lib/python3.11/dist-packages (from catboost) (3.10.0)\n",
            "Requirement already satisfied: pandas>=0.24 in /usr/local/lib/python3.11/dist-packages (from catboost) (2.2.2)\n",
            "Requirement already satisfied: plotly in /usr/local/lib/python3.11/dist-packages (from catboost) (5.24.1)\n",
            "Requirement already satisfied: six in /usr/local/lib/python3.11/dist-packages (from catboost) (1.17.0)\n",
            "Requirement already satisfied: python-dateutil>=2.8.2 in /usr/local/lib/python3.11/dist-packages (from pandas>=0.24->catboost) (2.9.0.post0)\n",
            "Requirement already satisfied: pytz>=2020.1 in /usr/local/lib/python3.11/dist-packages (from pandas>=0.24->catboost) (2025.2)\n",
            "Requirement already satisfied: tzdata>=2022.7 in /usr/local/lib/python3.11/dist-packages (from pandas>=0.24->catboost) (2025.2)\n",
            "Requirement already satisfied: contourpy>=1.0.1 in /usr/local/lib/python3.11/dist-packages (from matplotlib->catboost) (1.3.2)\n",
            "Requirement already satisfied: cycler>=0.10 in /usr/local/lib/python3.11/dist-packages (from matplotlib->catboost) (0.12.1)\n",
            "Requirement already satisfied: fonttools>=4.22.0 in /usr/local/lib/python3.11/dist-packages (from matplotlib->catboost) (4.58.1)\n",
            "Requirement already satisfied: kiwisolver>=1.3.1 in /usr/local/lib/python3.11/dist-packages (from matplotlib->catboost) (1.4.8)\n",
            "Requirement already satisfied: packaging>=20.0 in /usr/local/lib/python3.11/dist-packages (from matplotlib->catboost) (24.2)\n",
            "Requirement already satisfied: pillow>=8 in /usr/local/lib/python3.11/dist-packages (from matplotlib->catboost) (11.2.1)\n",
            "Requirement already satisfied: pyparsing>=2.3.1 in /usr/local/lib/python3.11/dist-packages (from matplotlib->catboost) (3.2.3)\n",
            "Requirement already satisfied: tenacity>=6.2.0 in /usr/local/lib/python3.11/dist-packages (from plotly->catboost) (9.1.2)\n",
            "Downloading catboost-1.2.8-cp311-cp311-manylinux2014_x86_64.whl (99.2 MB)\n",
            "\u001b[2K   \u001b[90m━━━━━━━━━━━━━━━━━━━━━━━━━━━━━━━━━━━━━━━━\u001b[0m \u001b[32m99.2/99.2 MB\u001b[0m \u001b[31m7.5 MB/s\u001b[0m eta \u001b[36m0:00:00\u001b[0m\n",
            "\u001b[?25hInstalling collected packages: catboost\n",
            "Successfully installed catboost-1.2.8\n"
          ]
        }
      ],
      "source": [
        "\n",
        "import numpy as np\n",
        "import pandas as pd\n",
        "import matplotlib.pyplot as plt\n",
        "import seaborn as sns\n",
        "from sklearn.model_selection import train_test_split, GridSearchCV\n",
        "from sklearn.preprocessing import LabelEncoder, OneHotEncoder, StandardScaler\n",
        "from sklearn.compose import ColumnTransformer\n",
        "from sklearn.pipeline import Pipeline\n",
        "from sklearn.ensemble import RandomForestClassifier\n",
        "from sklearn.svm import SVC\n",
        "from sklearn.neighbors import KNeighborsClassifier\n",
        "from sklearn.metrics import accuracy_score, precision_score, recall_score, f1_score, confusion_matrix, classification_report\n",
        "\n",
        "!pip install xgboost lightgbm catboost\n",
        "import xgboost as xgb\n",
        "import lightgbm as lgb\n",
        "import catboost as cb"
      ]
    },
    {
      "cell_type": "code",
      "source": [
        "from google.colab import files\n",
        "\n",
        "\n",
        "uploaded = files.upload()"
      ],
      "metadata": {
        "colab": {
          "base_uri": "https://localhost:8080/",
          "height": 74
        },
        "id": "_X9cHzfkM_A1",
        "outputId": "aabaf20d-3e0d-41c7-d125-6d813adc7e8e"
      },
      "execution_count": null,
      "outputs": [
        {
          "output_type": "display_data",
          "data": {
            "text/plain": [
              "<IPython.core.display.HTML object>"
            ],
            "text/html": [
              "\n",
              "     <input type=\"file\" id=\"files-00e3003a-7612-4390-81c6-a03d6c328b90\" name=\"files[]\" multiple disabled\n",
              "        style=\"border:none\" />\n",
              "     <output id=\"result-00e3003a-7612-4390-81c6-a03d6c328b90\">\n",
              "      Upload widget is only available when the cell has been executed in the\n",
              "      current browser session. Please rerun this cell to enable.\n",
              "      </output>\n",
              "      <script>// Copyright 2017 Google LLC\n",
              "//\n",
              "// Licensed under the Apache License, Version 2.0 (the \"License\");\n",
              "// you may not use this file except in compliance with the License.\n",
              "// You may obtain a copy of the License at\n",
              "//\n",
              "//      http://www.apache.org/licenses/LICENSE-2.0\n",
              "//\n",
              "// Unless required by applicable law or agreed to in writing, software\n",
              "// distributed under the License is distributed on an \"AS IS\" BASIS,\n",
              "// WITHOUT WARRANTIES OR CONDITIONS OF ANY KIND, either express or implied.\n",
              "// See the License for the specific language governing permissions and\n",
              "// limitations under the License.\n",
              "\n",
              "/**\n",
              " * @fileoverview Helpers for google.colab Python module.\n",
              " */\n",
              "(function(scope) {\n",
              "function span(text, styleAttributes = {}) {\n",
              "  const element = document.createElement('span');\n",
              "  element.textContent = text;\n",
              "  for (const key of Object.keys(styleAttributes)) {\n",
              "    element.style[key] = styleAttributes[key];\n",
              "  }\n",
              "  return element;\n",
              "}\n",
              "\n",
              "// Max number of bytes which will be uploaded at a time.\n",
              "const MAX_PAYLOAD_SIZE = 100 * 1024;\n",
              "\n",
              "function _uploadFiles(inputId, outputId) {\n",
              "  const steps = uploadFilesStep(inputId, outputId);\n",
              "  const outputElement = document.getElementById(outputId);\n",
              "  // Cache steps on the outputElement to make it available for the next call\n",
              "  // to uploadFilesContinue from Python.\n",
              "  outputElement.steps = steps;\n",
              "\n",
              "  return _uploadFilesContinue(outputId);\n",
              "}\n",
              "\n",
              "// This is roughly an async generator (not supported in the browser yet),\n",
              "// where there are multiple asynchronous steps and the Python side is going\n",
              "// to poll for completion of each step.\n",
              "// This uses a Promise to block the python side on completion of each step,\n",
              "// then passes the result of the previous step as the input to the next step.\n",
              "function _uploadFilesContinue(outputId) {\n",
              "  const outputElement = document.getElementById(outputId);\n",
              "  const steps = outputElement.steps;\n",
              "\n",
              "  const next = steps.next(outputElement.lastPromiseValue);\n",
              "  return Promise.resolve(next.value.promise).then((value) => {\n",
              "    // Cache the last promise value to make it available to the next\n",
              "    // step of the generator.\n",
              "    outputElement.lastPromiseValue = value;\n",
              "    return next.value.response;\n",
              "  });\n",
              "}\n",
              "\n",
              "/**\n",
              " * Generator function which is called between each async step of the upload\n",
              " * process.\n",
              " * @param {string} inputId Element ID of the input file picker element.\n",
              " * @param {string} outputId Element ID of the output display.\n",
              " * @return {!Iterable<!Object>} Iterable of next steps.\n",
              " */\n",
              "function* uploadFilesStep(inputId, outputId) {\n",
              "  const inputElement = document.getElementById(inputId);\n",
              "  inputElement.disabled = false;\n",
              "\n",
              "  const outputElement = document.getElementById(outputId);\n",
              "  outputElement.innerHTML = '';\n",
              "\n",
              "  const pickedPromise = new Promise((resolve) => {\n",
              "    inputElement.addEventListener('change', (e) => {\n",
              "      resolve(e.target.files);\n",
              "    });\n",
              "  });\n",
              "\n",
              "  const cancel = document.createElement('button');\n",
              "  inputElement.parentElement.appendChild(cancel);\n",
              "  cancel.textContent = 'Cancel upload';\n",
              "  const cancelPromise = new Promise((resolve) => {\n",
              "    cancel.onclick = () => {\n",
              "      resolve(null);\n",
              "    };\n",
              "  });\n",
              "\n",
              "  // Wait for the user to pick the files.\n",
              "  const files = yield {\n",
              "    promise: Promise.race([pickedPromise, cancelPromise]),\n",
              "    response: {\n",
              "      action: 'starting',\n",
              "    }\n",
              "  };\n",
              "\n",
              "  cancel.remove();\n",
              "\n",
              "  // Disable the input element since further picks are not allowed.\n",
              "  inputElement.disabled = true;\n",
              "\n",
              "  if (!files) {\n",
              "    return {\n",
              "      response: {\n",
              "        action: 'complete',\n",
              "      }\n",
              "    };\n",
              "  }\n",
              "\n",
              "  for (const file of files) {\n",
              "    const li = document.createElement('li');\n",
              "    li.append(span(file.name, {fontWeight: 'bold'}));\n",
              "    li.append(span(\n",
              "        `(${file.type || 'n/a'}) - ${file.size} bytes, ` +\n",
              "        `last modified: ${\n",
              "            file.lastModifiedDate ? file.lastModifiedDate.toLocaleDateString() :\n",
              "                                    'n/a'} - `));\n",
              "    const percent = span('0% done');\n",
              "    li.appendChild(percent);\n",
              "\n",
              "    outputElement.appendChild(li);\n",
              "\n",
              "    const fileDataPromise = new Promise((resolve) => {\n",
              "      const reader = new FileReader();\n",
              "      reader.onload = (e) => {\n",
              "        resolve(e.target.result);\n",
              "      };\n",
              "      reader.readAsArrayBuffer(file);\n",
              "    });\n",
              "    // Wait for the data to be ready.\n",
              "    let fileData = yield {\n",
              "      promise: fileDataPromise,\n",
              "      response: {\n",
              "        action: 'continue',\n",
              "      }\n",
              "    };\n",
              "\n",
              "    // Use a chunked sending to avoid message size limits. See b/62115660.\n",
              "    let position = 0;\n",
              "    do {\n",
              "      const length = Math.min(fileData.byteLength - position, MAX_PAYLOAD_SIZE);\n",
              "      const chunk = new Uint8Array(fileData, position, length);\n",
              "      position += length;\n",
              "\n",
              "      const base64 = btoa(String.fromCharCode.apply(null, chunk));\n",
              "      yield {\n",
              "        response: {\n",
              "          action: 'append',\n",
              "          file: file.name,\n",
              "          data: base64,\n",
              "        },\n",
              "      };\n",
              "\n",
              "      let percentDone = fileData.byteLength === 0 ?\n",
              "          100 :\n",
              "          Math.round((position / fileData.byteLength) * 100);\n",
              "      percent.textContent = `${percentDone}% done`;\n",
              "\n",
              "    } while (position < fileData.byteLength);\n",
              "  }\n",
              "\n",
              "  // All done.\n",
              "  yield {\n",
              "    response: {\n",
              "      action: 'complete',\n",
              "    }\n",
              "  };\n",
              "}\n",
              "\n",
              "scope.google = scope.google || {};\n",
              "scope.google.colab = scope.google.colab || {};\n",
              "scope.google.colab._files = {\n",
              "  _uploadFiles,\n",
              "  _uploadFilesContinue,\n",
              "};\n",
              "})(self);\n",
              "</script> "
            ]
          },
          "metadata": {}
        },
        {
          "output_type": "stream",
          "name": "stdout",
          "text": [
            "Saving Pokemon.csv to Pokemon.csv\n"
          ]
        }
      ]
    },
    {
      "cell_type": "code",
      "source": [
        "import pandas as pd\n",
        "\n",
        "# Yüklediğim dosyadan veri çekmek için.\n",
        "df = pd.read_csv('Pokemon.csv')\n",
        "\n",
        "pokemon_df = df.copy()"
      ],
      "metadata": {
        "id": "gUrd3L0n2pJ6"
      },
      "execution_count": null,
      "outputs": []
    },
    {
      "cell_type": "code",
      "source": [
        "# Veri setinin genel yapısını (`head()`, `info()`, `describe()`) kullanarak keşfedin.\n",
        "# Hedef değişkeniniz: `Legendary` sütunu.\n",
        "\n",
        "print(pokemon_df.head())\n",
        "print(pokemon_df.info())\n",
        "print(pokemon_df.describe())"
      ],
      "metadata": {
        "colab": {
          "base_uri": "https://localhost:8080/"
        },
        "id": "ut4qoSKB2tv-",
        "outputId": "7d30359d-add5-423e-e77b-92de5e7259e7"
      },
      "execution_count": null,
      "outputs": [
        {
          "output_type": "stream",
          "name": "stdout",
          "text": [
            "   #                   Name Type 1  Type 2  Total  HP  Attack  Defense  \\\n",
            "0  1              Bulbasaur  Grass  Poison    318  45      49       49   \n",
            "1  2                Ivysaur  Grass  Poison    405  60      62       63   \n",
            "2  3               Venusaur  Grass  Poison    525  80      82       83   \n",
            "3  3  VenusaurMega Venusaur  Grass  Poison    625  80     100      123   \n",
            "4  4             Charmander   Fire     NaN    309  39      52       43   \n",
            "\n",
            "   Sp. Atk  Sp. Def  Speed  Generation  Legendary  \n",
            "0       65       65     45           1      False  \n",
            "1       80       80     60           1      False  \n",
            "2      100      100     80           1      False  \n",
            "3      122      120     80           1      False  \n",
            "4       60       50     65           1      False  \n",
            "<class 'pandas.core.frame.DataFrame'>\n",
            "RangeIndex: 800 entries, 0 to 799\n",
            "Data columns (total 13 columns):\n",
            " #   Column      Non-Null Count  Dtype \n",
            "---  ------      --------------  ----- \n",
            " 0   #           800 non-null    int64 \n",
            " 1   Name        800 non-null    object\n",
            " 2   Type 1      800 non-null    object\n",
            " 3   Type 2      414 non-null    object\n",
            " 4   Total       800 non-null    int64 \n",
            " 5   HP          800 non-null    int64 \n",
            " 6   Attack      800 non-null    int64 \n",
            " 7   Defense     800 non-null    int64 \n",
            " 8   Sp. Atk     800 non-null    int64 \n",
            " 9   Sp. Def     800 non-null    int64 \n",
            " 10  Speed       800 non-null    int64 \n",
            " 11  Generation  800 non-null    int64 \n",
            " 12  Legendary   800 non-null    bool  \n",
            "dtypes: bool(1), int64(9), object(3)\n",
            "memory usage: 75.9+ KB\n",
            "None\n",
            "                #      Total          HP      Attack     Defense     Sp. Atk  \\\n",
            "count  800.000000  800.00000  800.000000  800.000000  800.000000  800.000000   \n",
            "mean   362.813750  435.10250   69.258750   79.001250   73.842500   72.820000   \n",
            "std    208.343798  119.96304   25.534669   32.457366   31.183501   32.722294   \n",
            "min      1.000000  180.00000    1.000000    5.000000    5.000000   10.000000   \n",
            "25%    184.750000  330.00000   50.000000   55.000000   50.000000   49.750000   \n",
            "50%    364.500000  450.00000   65.000000   75.000000   70.000000   65.000000   \n",
            "75%    539.250000  515.00000   80.000000  100.000000   90.000000   95.000000   \n",
            "max    721.000000  780.00000  255.000000  190.000000  230.000000  194.000000   \n",
            "\n",
            "          Sp. Def       Speed  Generation  \n",
            "count  800.000000  800.000000   800.00000  \n",
            "mean    71.902500   68.277500     3.32375  \n",
            "std     27.828916   29.060474     1.66129  \n",
            "min     20.000000    5.000000     1.00000  \n",
            "25%     50.000000   45.000000     2.00000  \n",
            "50%     70.000000   65.000000     3.00000  \n",
            "75%     90.000000   90.000000     5.00000  \n",
            "max    230.000000  180.000000     6.00000  \n"
          ]
        }
      ]
    },
    {
      "cell_type": "code",
      "source": [
        "# Kategorik değişkenleri belirleme\n",
        "\n",
        "# Obje veri tipine sahip sütunlar genellikle kategorik değişkenlerdir.\n",
        "categorical_cols = pokemon_df.select_dtypes(include='object').columns\n",
        "\n",
        "print(\"\\nKategorik Değişkenler:\")\n",
        "print(categorical_cols)\n",
        "\n",
        "# Kategorik değişkenlerin benzersiz değerlerini kontrol etme (çok fazla seviyesi olanları belirlemek için)\n",
        "for col in categorical_cols:\n",
        "  print(f\"\\n'{col}' Sütununun Benzersiz Değerleri:\")\n",
        "  print(pokemon_df[col].unique())\n",
        "  print(f\"Benzersiz Değer Sayısı: {pokemon_df[col].nunique()}\")\n"
      ],
      "metadata": {
        "colab": {
          "base_uri": "https://localhost:8080/"
        },
        "id": "WfY4KGjUdFtx",
        "outputId": "d6c91989-42e2-4a80-d56b-57231685759e"
      },
      "execution_count": null,
      "outputs": [
        {
          "output_type": "stream",
          "name": "stdout",
          "text": [
            "\n",
            "Kategorik Değişkenler:\n",
            "Index(['Name', 'Type 1', 'Type 2'], dtype='object')\n",
            "\n",
            "'Name' Sütununun Benzersiz Değerleri:\n",
            "['Bulbasaur' 'Ivysaur' 'Venusaur' 'VenusaurMega Venusaur' 'Charmander'\n",
            " 'Charmeleon' 'Charizard' 'CharizardMega Charizard X'\n",
            " 'CharizardMega Charizard Y' 'Squirtle' 'Wartortle' 'Blastoise'\n",
            " 'BlastoiseMega Blastoise' 'Caterpie' 'Metapod' 'Butterfree' 'Weedle'\n",
            " 'Kakuna' 'Beedrill' 'BeedrillMega Beedrill' 'Pidgey' 'Pidgeotto'\n",
            " 'Pidgeot' 'PidgeotMega Pidgeot' 'Rattata' 'Raticate' 'Spearow' 'Fearow'\n",
            " 'Ekans' 'Arbok' 'Pikachu' 'Raichu' 'Sandshrew' 'Sandslash' 'Nidoran♀'\n",
            " 'Nidorina' 'Nidoqueen' 'Nidoran♂' 'Nidorino' 'Nidoking' 'Clefairy'\n",
            " 'Clefable' 'Vulpix' 'Ninetales' 'Jigglypuff' 'Wigglytuff' 'Zubat'\n",
            " 'Golbat' 'Oddish' 'Gloom' 'Vileplume' 'Paras' 'Parasect' 'Venonat'\n",
            " 'Venomoth' 'Diglett' 'Dugtrio' 'Meowth' 'Persian' 'Psyduck' 'Golduck'\n",
            " 'Mankey' 'Primeape' 'Growlithe' 'Arcanine' 'Poliwag' 'Poliwhirl'\n",
            " 'Poliwrath' 'Abra' 'Kadabra' 'Alakazam' 'AlakazamMega Alakazam' 'Machop'\n",
            " 'Machoke' 'Machamp' 'Bellsprout' 'Weepinbell' 'Victreebel' 'Tentacool'\n",
            " 'Tentacruel' 'Geodude' 'Graveler' 'Golem' 'Ponyta' 'Rapidash' 'Slowpoke'\n",
            " 'Slowbro' 'SlowbroMega Slowbro' 'Magnemite' 'Magneton' \"Farfetch'd\"\n",
            " 'Doduo' 'Dodrio' 'Seel' 'Dewgong' 'Grimer' 'Muk' 'Shellder' 'Cloyster'\n",
            " 'Gastly' 'Haunter' 'Gengar' 'GengarMega Gengar' 'Onix' 'Drowzee' 'Hypno'\n",
            " 'Krabby' 'Kingler' 'Voltorb' 'Electrode' 'Exeggcute' 'Exeggutor' 'Cubone'\n",
            " 'Marowak' 'Hitmonlee' 'Hitmonchan' 'Lickitung' 'Koffing' 'Weezing'\n",
            " 'Rhyhorn' 'Rhydon' 'Chansey' 'Tangela' 'Kangaskhan'\n",
            " 'KangaskhanMega Kangaskhan' 'Horsea' 'Seadra' 'Goldeen' 'Seaking'\n",
            " 'Staryu' 'Starmie' 'Mr. Mime' 'Scyther' 'Jynx' 'Electabuzz' 'Magmar'\n",
            " 'Pinsir' 'PinsirMega Pinsir' 'Tauros' 'Magikarp' 'Gyarados'\n",
            " 'GyaradosMega Gyarados' 'Lapras' 'Ditto' 'Eevee' 'Vaporeon' 'Jolteon'\n",
            " 'Flareon' 'Porygon' 'Omanyte' 'Omastar' 'Kabuto' 'Kabutops' 'Aerodactyl'\n",
            " 'AerodactylMega Aerodactyl' 'Snorlax' 'Articuno' 'Zapdos' 'Moltres'\n",
            " 'Dratini' 'Dragonair' 'Dragonite' 'Mewtwo' 'MewtwoMega Mewtwo X'\n",
            " 'MewtwoMega Mewtwo Y' 'Mew' 'Chikorita' 'Bayleef' 'Meganium' 'Cyndaquil'\n",
            " 'Quilava' 'Typhlosion' 'Totodile' 'Croconaw' 'Feraligatr' 'Sentret'\n",
            " 'Furret' 'Hoothoot' 'Noctowl' 'Ledyba' 'Ledian' 'Spinarak' 'Ariados'\n",
            " 'Crobat' 'Chinchou' 'Lanturn' 'Pichu' 'Cleffa' 'Igglybuff' 'Togepi'\n",
            " 'Togetic' 'Natu' 'Xatu' 'Mareep' 'Flaaffy' 'Ampharos'\n",
            " 'AmpharosMega Ampharos' 'Bellossom' 'Marill' 'Azumarill' 'Sudowoodo'\n",
            " 'Politoed' 'Hoppip' 'Skiploom' 'Jumpluff' 'Aipom' 'Sunkern' 'Sunflora'\n",
            " 'Yanma' 'Wooper' 'Quagsire' 'Espeon' 'Umbreon' 'Murkrow' 'Slowking'\n",
            " 'Misdreavus' 'Unown' 'Wobbuffet' 'Girafarig' 'Pineco' 'Forretress'\n",
            " 'Dunsparce' 'Gligar' 'Steelix' 'SteelixMega Steelix' 'Snubbull'\n",
            " 'Granbull' 'Qwilfish' 'Scizor' 'ScizorMega Scizor' 'Shuckle' 'Heracross'\n",
            " 'HeracrossMega Heracross' 'Sneasel' 'Teddiursa' 'Ursaring' 'Slugma'\n",
            " 'Magcargo' 'Swinub' 'Piloswine' 'Corsola' 'Remoraid' 'Octillery'\n",
            " 'Delibird' 'Mantine' 'Skarmory' 'Houndour' 'Houndoom'\n",
            " 'HoundoomMega Houndoom' 'Kingdra' 'Phanpy' 'Donphan' 'Porygon2'\n",
            " 'Stantler' 'Smeargle' 'Tyrogue' 'Hitmontop' 'Smoochum' 'Elekid' 'Magby'\n",
            " 'Miltank' 'Blissey' 'Raikou' 'Entei' 'Suicune' 'Larvitar' 'Pupitar'\n",
            " 'Tyranitar' 'TyranitarMega Tyranitar' 'Lugia' 'Ho-oh' 'Celebi' 'Treecko'\n",
            " 'Grovyle' 'Sceptile' 'SceptileMega Sceptile' 'Torchic' 'Combusken'\n",
            " 'Blaziken' 'BlazikenMega Blaziken' 'Mudkip' 'Marshtomp' 'Swampert'\n",
            " 'SwampertMega Swampert' 'Poochyena' 'Mightyena' 'Zigzagoon' 'Linoone'\n",
            " 'Wurmple' 'Silcoon' 'Beautifly' 'Cascoon' 'Dustox' 'Lotad' 'Lombre'\n",
            " 'Ludicolo' 'Seedot' 'Nuzleaf' 'Shiftry' 'Taillow' 'Swellow' 'Wingull'\n",
            " 'Pelipper' 'Ralts' 'Kirlia' 'Gardevoir' 'GardevoirMega Gardevoir'\n",
            " 'Surskit' 'Masquerain' 'Shroomish' 'Breloom' 'Slakoth' 'Vigoroth'\n",
            " 'Slaking' 'Nincada' 'Ninjask' 'Shedinja' 'Whismur' 'Loudred' 'Exploud'\n",
            " 'Makuhita' 'Hariyama' 'Azurill' 'Nosepass' 'Skitty' 'Delcatty' 'Sableye'\n",
            " 'SableyeMega Sableye' 'Mawile' 'MawileMega Mawile' 'Aron' 'Lairon'\n",
            " 'Aggron' 'AggronMega Aggron' 'Meditite' 'Medicham'\n",
            " 'MedichamMega Medicham' 'Electrike' 'Manectric' 'ManectricMega Manectric'\n",
            " 'Plusle' 'Minun' 'Volbeat' 'Illumise' 'Roselia' 'Gulpin' 'Swalot'\n",
            " 'Carvanha' 'Sharpedo' 'SharpedoMega Sharpedo' 'Wailmer' 'Wailord' 'Numel'\n",
            " 'Camerupt' 'CameruptMega Camerupt' 'Torkoal' 'Spoink' 'Grumpig' 'Spinda'\n",
            " 'Trapinch' 'Vibrava' 'Flygon' 'Cacnea' 'Cacturne' 'Swablu' 'Altaria'\n",
            " 'AltariaMega Altaria' 'Zangoose' 'Seviper' 'Lunatone' 'Solrock'\n",
            " 'Barboach' 'Whiscash' 'Corphish' 'Crawdaunt' 'Baltoy' 'Claydol' 'Lileep'\n",
            " 'Cradily' 'Anorith' 'Armaldo' 'Feebas' 'Milotic' 'Castform' 'Kecleon'\n",
            " 'Shuppet' 'Banette' 'BanetteMega Banette' 'Duskull' 'Dusclops' 'Tropius'\n",
            " 'Chimecho' 'Absol' 'AbsolMega Absol' 'Wynaut' 'Snorunt' 'Glalie'\n",
            " 'GlalieMega Glalie' 'Spheal' 'Sealeo' 'Walrein' 'Clamperl' 'Huntail'\n",
            " 'Gorebyss' 'Relicanth' 'Luvdisc' 'Bagon' 'Shelgon' 'Salamence'\n",
            " 'SalamenceMega Salamence' 'Beldum' 'Metang' 'Metagross'\n",
            " 'MetagrossMega Metagross' 'Regirock' 'Regice' 'Registeel' 'Latias'\n",
            " 'LatiasMega Latias' 'Latios' 'LatiosMega Latios' 'Kyogre'\n",
            " 'KyogrePrimal Kyogre' 'Groudon' 'GroudonPrimal Groudon' 'Rayquaza'\n",
            " 'RayquazaMega Rayquaza' 'Jirachi' 'DeoxysNormal Forme'\n",
            " 'DeoxysAttack Forme' 'DeoxysDefense Forme' 'DeoxysSpeed Forme' 'Turtwig'\n",
            " 'Grotle' 'Torterra' 'Chimchar' 'Monferno' 'Infernape' 'Piplup' 'Prinplup'\n",
            " 'Empoleon' 'Starly' 'Staravia' 'Staraptor' 'Bidoof' 'Bibarel' 'Kricketot'\n",
            " 'Kricketune' 'Shinx' 'Luxio' 'Luxray' 'Budew' 'Roserade' 'Cranidos'\n",
            " 'Rampardos' 'Shieldon' 'Bastiodon' 'Burmy' 'WormadamPlant Cloak'\n",
            " 'WormadamSandy Cloak' 'WormadamTrash Cloak' 'Mothim' 'Combee' 'Vespiquen'\n",
            " 'Pachirisu' 'Buizel' 'Floatzel' 'Cherubi' 'Cherrim' 'Shellos' 'Gastrodon'\n",
            " 'Ambipom' 'Drifloon' 'Drifblim' 'Buneary' 'Lopunny' 'LopunnyMega Lopunny'\n",
            " 'Mismagius' 'Honchkrow' 'Glameow' 'Purugly' 'Chingling' 'Stunky'\n",
            " 'Skuntank' 'Bronzor' 'Bronzong' 'Bonsly' 'Mime Jr.' 'Happiny' 'Chatot'\n",
            " 'Spiritomb' 'Gible' 'Gabite' 'Garchomp' 'GarchompMega Garchomp'\n",
            " 'Munchlax' 'Riolu' 'Lucario' 'LucarioMega Lucario' 'Hippopotas'\n",
            " 'Hippowdon' 'Skorupi' 'Drapion' 'Croagunk' 'Toxicroak' 'Carnivine'\n",
            " 'Finneon' 'Lumineon' 'Mantyke' 'Snover' 'Abomasnow'\n",
            " 'AbomasnowMega Abomasnow' 'Weavile' 'Magnezone' 'Lickilicky' 'Rhyperior'\n",
            " 'Tangrowth' 'Electivire' 'Magmortar' 'Togekiss' 'Yanmega' 'Leafeon'\n",
            " 'Glaceon' 'Gliscor' 'Mamoswine' 'Porygon-Z' 'Gallade'\n",
            " 'GalladeMega Gallade' 'Probopass' 'Dusknoir' 'Froslass' 'Rotom'\n",
            " 'RotomHeat Rotom' 'RotomWash Rotom' 'RotomFrost Rotom' 'RotomFan Rotom'\n",
            " 'RotomMow Rotom' 'Uxie' 'Mesprit' 'Azelf' 'Dialga' 'Palkia' 'Heatran'\n",
            " 'Regigigas' 'GiratinaAltered Forme' 'GiratinaOrigin Forme' 'Cresselia'\n",
            " 'Phione' 'Manaphy' 'Darkrai' 'ShayminLand Forme' 'ShayminSky Forme'\n",
            " 'Arceus' 'Victini' 'Snivy' 'Servine' 'Serperior' 'Tepig' 'Pignite'\n",
            " 'Emboar' 'Oshawott' 'Dewott' 'Samurott' 'Patrat' 'Watchog' 'Lillipup'\n",
            " 'Herdier' 'Stoutland' 'Purrloin' 'Liepard' 'Pansage' 'Simisage' 'Pansear'\n",
            " 'Simisear' 'Panpour' 'Simipour' 'Munna' 'Musharna' 'Pidove' 'Tranquill'\n",
            " 'Unfezant' 'Blitzle' 'Zebstrika' 'Roggenrola' 'Boldore' 'Gigalith'\n",
            " 'Woobat' 'Swoobat' 'Drilbur' 'Excadrill' 'Audino' 'AudinoMega Audino'\n",
            " 'Timburr' 'Gurdurr' 'Conkeldurr' 'Tympole' 'Palpitoad' 'Seismitoad'\n",
            " 'Throh' 'Sawk' 'Sewaddle' 'Swadloon' 'Leavanny' 'Venipede' 'Whirlipede'\n",
            " 'Scolipede' 'Cottonee' 'Whimsicott' 'Petilil' 'Lilligant' 'Basculin'\n",
            " 'Sandile' 'Krokorok' 'Krookodile' 'Darumaka' 'DarmanitanStandard Mode'\n",
            " 'DarmanitanZen Mode' 'Maractus' 'Dwebble' 'Crustle' 'Scraggy' 'Scrafty'\n",
            " 'Sigilyph' 'Yamask' 'Cofagrigus' 'Tirtouga' 'Carracosta' 'Archen'\n",
            " 'Archeops' 'Trubbish' 'Garbodor' 'Zorua' 'Zoroark' 'Minccino' 'Cinccino'\n",
            " 'Gothita' 'Gothorita' 'Gothitelle' 'Solosis' 'Duosion' 'Reuniclus'\n",
            " 'Ducklett' 'Swanna' 'Vanillite' 'Vanillish' 'Vanilluxe' 'Deerling'\n",
            " 'Sawsbuck' 'Emolga' 'Karrablast' 'Escavalier' 'Foongus' 'Amoonguss'\n",
            " 'Frillish' 'Jellicent' 'Alomomola' 'Joltik' 'Galvantula' 'Ferroseed'\n",
            " 'Ferrothorn' 'Klink' 'Klang' 'Klinklang' 'Tynamo' 'Eelektrik'\n",
            " 'Eelektross' 'Elgyem' 'Beheeyem' 'Litwick' 'Lampent' 'Chandelure' 'Axew'\n",
            " 'Fraxure' 'Haxorus' 'Cubchoo' 'Beartic' 'Cryogonal' 'Shelmet' 'Accelgor'\n",
            " 'Stunfisk' 'Mienfoo' 'Mienshao' 'Druddigon' 'Golett' 'Golurk' 'Pawniard'\n",
            " 'Bisharp' 'Bouffalant' 'Rufflet' 'Braviary' 'Vullaby' 'Mandibuzz'\n",
            " 'Heatmor' 'Durant' 'Deino' 'Zweilous' 'Hydreigon' 'Larvesta' 'Volcarona'\n",
            " 'Cobalion' 'Terrakion' 'Virizion' 'TornadusIncarnate Forme'\n",
            " 'TornadusTherian Forme' 'ThundurusIncarnate Forme'\n",
            " 'ThundurusTherian Forme' 'Reshiram' 'Zekrom' 'LandorusIncarnate Forme'\n",
            " 'LandorusTherian Forme' 'Kyurem' 'KyuremBlack Kyurem'\n",
            " 'KyuremWhite Kyurem' 'KeldeoOrdinary Forme' 'KeldeoResolute Forme'\n",
            " 'MeloettaAria Forme' 'MeloettaPirouette Forme' 'Genesect' 'Chespin'\n",
            " 'Quilladin' 'Chesnaught' 'Fennekin' 'Braixen' 'Delphox' 'Froakie'\n",
            " 'Frogadier' 'Greninja' 'Bunnelby' 'Diggersby' 'Fletchling' 'Fletchinder'\n",
            " 'Talonflame' 'Scatterbug' 'Spewpa' 'Vivillon' 'Litleo' 'Pyroar' 'Flabébé'\n",
            " 'Floette' 'Florges' 'Skiddo' 'Gogoat' 'Pancham' 'Pangoro' 'Furfrou'\n",
            " 'Espurr' 'MeowsticMale' 'MeowsticFemale' 'Honedge' 'Doublade'\n",
            " 'AegislashBlade Forme' 'AegislashShield Forme' 'Spritzee' 'Aromatisse'\n",
            " 'Swirlix' 'Slurpuff' 'Inkay' 'Malamar' 'Binacle' 'Barbaracle' 'Skrelp'\n",
            " 'Dragalge' 'Clauncher' 'Clawitzer' 'Helioptile' 'Heliolisk' 'Tyrunt'\n",
            " 'Tyrantrum' 'Amaura' 'Aurorus' 'Sylveon' 'Hawlucha' 'Dedenne' 'Carbink'\n",
            " 'Goomy' 'Sliggoo' 'Goodra' 'Klefki' 'Phantump' 'Trevenant'\n",
            " 'PumpkabooAverage Size' 'PumpkabooSmall Size' 'PumpkabooLarge Size'\n",
            " 'PumpkabooSuper Size' 'GourgeistAverage Size' 'GourgeistSmall Size'\n",
            " 'GourgeistLarge Size' 'GourgeistSuper Size' 'Bergmite' 'Avalugg' 'Noibat'\n",
            " 'Noivern' 'Xerneas' 'Yveltal' 'Zygarde50% Forme' 'Diancie'\n",
            " 'DiancieMega Diancie' 'HoopaHoopa Confined' 'HoopaHoopa Unbound'\n",
            " 'Volcanion']\n",
            "Benzersiz Değer Sayısı: 800\n",
            "\n",
            "'Type 1' Sütununun Benzersiz Değerleri:\n",
            "['Grass' 'Fire' 'Water' 'Bug' 'Normal' 'Poison' 'Electric' 'Ground'\n",
            " 'Fairy' 'Fighting' 'Psychic' 'Rock' 'Ghost' 'Ice' 'Dragon' 'Dark' 'Steel'\n",
            " 'Flying']\n",
            "Benzersiz Değer Sayısı: 18\n",
            "\n",
            "'Type 2' Sütununun Benzersiz Değerleri:\n",
            "['Poison' nan 'Flying' 'Dragon' 'Ground' 'Fairy' 'Grass' 'Fighting'\n",
            " 'Psychic' 'Steel' 'Ice' 'Rock' 'Dark' 'Water' 'Electric' 'Fire' 'Ghost'\n",
            " 'Bug' 'Normal']\n",
            "Benzersiz Değer Sayısı: 18\n"
          ]
        }
      ]
    },
    {
      "cell_type": "code",
      "source": [
        "# Kategorik değişkenleri LabelEncoder veya OneHotEncoder ile sayısal forma çevirin.\n",
        "\n",
        "# Hedef değişken 'Legendary' için Label Encoding\n",
        "# True -> 1, False -> 0\n",
        "le = LabelEncoder()\n",
        "pokemon_df['Legendary'] = le.fit_transform(pokemon_df['Legendary'])\n",
        "\n",
        "# Kategorik değişkenleri One-Hot Encoding ile sayısal forma çevirme\n",
        "# Hedef değişken ('Legendary') ve gereksiz 'Name' sütunu hariç kategorik sütunları seçme\n",
        "categorical_cols_to_encode = [col for col in categorical_cols if col not in ['Name']]\n",
        "\n",
        "# One-Hot Encoding uygulama\n",
        "# drop_first=True: Multicollinearity problemini önlemek için ilk kategoriyi düşürme\n",
        "pokemon_df = pd.get_dummies(pokemon_df, columns=categorical_cols_to_encode, drop_first=True)\n",
        "\n",
        "print(\"\\nOne-Hot Encoding Sonrası DataFrame'in İlk 5 Satırı:\")\n",
        "print(pokemon_df.head())\n",
        "\n",
        "print(\"\\nOne-Hot Encoding Sonrası DataFrame Bilgisi:\")\n",
        "print(pokemon_df.info())"
      ],
      "metadata": {
        "colab": {
          "base_uri": "https://localhost:8080/"
        },
        "id": "VGy0iw75dUQj",
        "outputId": "48a88b96-9460-4f90-a335-69694cad5368"
      },
      "execution_count": null,
      "outputs": [
        {
          "output_type": "stream",
          "name": "stdout",
          "text": [
            "\n",
            "One-Hot Encoding Sonrası DataFrame'in İlk 5 Satırı:\n",
            "   #                   Name  Total  HP  Attack  Defense  Sp. Atk  Sp. Def  \\\n",
            "0  1              Bulbasaur    318  45      49       49       65       65   \n",
            "1  2                Ivysaur    405  60      62       63       80       80   \n",
            "2  3               Venusaur    525  80      82       83      100      100   \n",
            "3  3  VenusaurMega Venusaur    625  80     100      123      122      120   \n",
            "4  4             Charmander    309  39      52       43       60       50   \n",
            "\n",
            "   Speed  Generation  ...  Type 2_Ghost  Type 2_Grass  Type 2_Ground  \\\n",
            "0     45           1  ...         False         False          False   \n",
            "1     60           1  ...         False         False          False   \n",
            "2     80           1  ...         False         False          False   \n",
            "3     80           1  ...         False         False          False   \n",
            "4     65           1  ...         False         False          False   \n",
            "\n",
            "   Type 2_Ice  Type 2_Normal  Type 2_Poison  Type 2_Psychic  Type 2_Rock  \\\n",
            "0       False          False           True           False        False   \n",
            "1       False          False           True           False        False   \n",
            "2       False          False           True           False        False   \n",
            "3       False          False           True           False        False   \n",
            "4       False          False          False           False        False   \n",
            "\n",
            "   Type 2_Steel  Type 2_Water  \n",
            "0         False         False  \n",
            "1         False         False  \n",
            "2         False         False  \n",
            "3         False         False  \n",
            "4         False         False  \n",
            "\n",
            "[5 rows x 45 columns]\n",
            "\n",
            "One-Hot Encoding Sonrası DataFrame Bilgisi:\n",
            "<class 'pandas.core.frame.DataFrame'>\n",
            "RangeIndex: 800 entries, 0 to 799\n",
            "Data columns (total 45 columns):\n",
            " #   Column           Non-Null Count  Dtype \n",
            "---  ------           --------------  ----- \n",
            " 0   #                800 non-null    int64 \n",
            " 1   Name             800 non-null    object\n",
            " 2   Total            800 non-null    int64 \n",
            " 3   HP               800 non-null    int64 \n",
            " 4   Attack           800 non-null    int64 \n",
            " 5   Defense          800 non-null    int64 \n",
            " 6   Sp. Atk          800 non-null    int64 \n",
            " 7   Sp. Def          800 non-null    int64 \n",
            " 8   Speed            800 non-null    int64 \n",
            " 9   Generation       800 non-null    int64 \n",
            " 10  Legendary        800 non-null    int64 \n",
            " 11  Type 1_Dark      800 non-null    bool  \n",
            " 12  Type 1_Dragon    800 non-null    bool  \n",
            " 13  Type 1_Electric  800 non-null    bool  \n",
            " 14  Type 1_Fairy     800 non-null    bool  \n",
            " 15  Type 1_Fighting  800 non-null    bool  \n",
            " 16  Type 1_Fire      800 non-null    bool  \n",
            " 17  Type 1_Flying    800 non-null    bool  \n",
            " 18  Type 1_Ghost     800 non-null    bool  \n",
            " 19  Type 1_Grass     800 non-null    bool  \n",
            " 20  Type 1_Ground    800 non-null    bool  \n",
            " 21  Type 1_Ice       800 non-null    bool  \n",
            " 22  Type 1_Normal    800 non-null    bool  \n",
            " 23  Type 1_Poison    800 non-null    bool  \n",
            " 24  Type 1_Psychic   800 non-null    bool  \n",
            " 25  Type 1_Rock      800 non-null    bool  \n",
            " 26  Type 1_Steel     800 non-null    bool  \n",
            " 27  Type 1_Water     800 non-null    bool  \n",
            " 28  Type 2_Dark      800 non-null    bool  \n",
            " 29  Type 2_Dragon    800 non-null    bool  \n",
            " 30  Type 2_Electric  800 non-null    bool  \n",
            " 31  Type 2_Fairy     800 non-null    bool  \n",
            " 32  Type 2_Fighting  800 non-null    bool  \n",
            " 33  Type 2_Fire      800 non-null    bool  \n",
            " 34  Type 2_Flying    800 non-null    bool  \n",
            " 35  Type 2_Ghost     800 non-null    bool  \n",
            " 36  Type 2_Grass     800 non-null    bool  \n",
            " 37  Type 2_Ground    800 non-null    bool  \n",
            " 38  Type 2_Ice       800 non-null    bool  \n",
            " 39  Type 2_Normal    800 non-null    bool  \n",
            " 40  Type 2_Poison    800 non-null    bool  \n",
            " 41  Type 2_Psychic   800 non-null    bool  \n",
            " 42  Type 2_Rock      800 non-null    bool  \n",
            " 43  Type 2_Steel     800 non-null    bool  \n",
            " 44  Type 2_Water     800 non-null    bool  \n",
            "dtypes: bool(34), int64(10), object(1)\n",
            "memory usage: 95.4+ KB\n",
            "None\n"
          ]
        }
      ]
    },
    {
      "cell_type": "code",
      "source": [
        "# Tüm temel istatistiklerin toplamı\n",
        "pokemon_df['Total'] = pokemon_df[['HP', 'Attack', 'Defense', 'Sp. Atk', 'Sp. Def', 'Speed']].sum(axis=1)\n",
        "\n",
        "# Pokémon sadece 1 tipe sahipse 1, değilse 0\n",
        "# One-hot encoding sonrası Type 2 sütunları 'Type 2_' ile başlar\n",
        "type2_cols = [col for col in pokemon_df.columns if col.startswith('Type 2_')]\n",
        "pokemon_df['Is_Mono_Type'] = (pokemon_df[type2_cols].sum(axis=1) == 0).astype(int)\n",
        "\n",
        "# Attack_Defense_Ratio: Saldırı / Savunma oranı\n",
        "pokemon_df['Attack_Defense_Ratio'] = pokemon_df['Attack'] / pokemon_df['Defense'].replace(0, 1)\n",
        "\n",
        "# Kontrol amaçlı ilk 5 satırı yazdır.\n",
        "print(pokemon_df[['Total', 'Is_Mono_Type', 'Attack_Defense_Ratio']].head())\n"
      ],
      "metadata": {
        "colab": {
          "base_uri": "https://localhost:8080/"
        },
        "id": "pGil7mDBdjHY",
        "outputId": "2e9bb389-045d-4dda-97a6-3ded1b050565"
      },
      "execution_count": null,
      "outputs": [
        {
          "output_type": "stream",
          "name": "stdout",
          "text": [
            "   Total  Is_Mono_Type  Attack_Defense_Ratio\n",
            "0    318             0              1.000000\n",
            "1    405             0              0.984127\n",
            "2    525             0              0.987952\n",
            "3    625             0              0.813008\n",
            "4    309             1              1.209302\n"
          ]
        }
      ]
    },
    {
      "cell_type": "code",
      "source": [
        "# Gerekli olmayan sütunlar\n",
        "cols_to_drop = ['Name', '#']\n",
        "\n",
        "# 'Type 1' ve 'Type 2' sütunları varsa, çünkü One-Hot Encoding yapılmış\n",
        "cols_to_drop += [col for col in ['Type 1', 'Type 2'] if col in pokemon_df.columns]\n",
        "\n",
        "# Sütunları gerçekten DataFrame'de olanlardan seç\n",
        "cols_to_drop_existing = [col for col in cols_to_drop if col in pokemon_df.columns]\n",
        "\n",
        "# Sütunları kaldır\n",
        "pokemon_df.drop(columns=cols_to_drop_existing, inplace=True)\n",
        "\n",
        "print(pokemon_df.columns)\n"
      ],
      "metadata": {
        "colab": {
          "base_uri": "https://localhost:8080/"
        },
        "id": "ZJBnppXehPcu",
        "outputId": "05136040-6393-4ea2-a2d3-3a5c6514b3dd"
      },
      "execution_count": null,
      "outputs": [
        {
          "output_type": "stream",
          "name": "stdout",
          "text": [
            "Index(['Total', 'HP', 'Attack', 'Defense', 'Sp. Atk', 'Sp. Def', 'Speed',\n",
            "       'Generation', 'Legendary', 'Type 1_Dark', 'Type 1_Dragon',\n",
            "       'Type 1_Electric', 'Type 1_Fairy', 'Type 1_Fighting', 'Type 1_Fire',\n",
            "       'Type 1_Flying', 'Type 1_Ghost', 'Type 1_Grass', 'Type 1_Ground',\n",
            "       'Type 1_Ice', 'Type 1_Normal', 'Type 1_Poison', 'Type 1_Psychic',\n",
            "       'Type 1_Rock', 'Type 1_Steel', 'Type 1_Water', 'Type 2_Dark',\n",
            "       'Type 2_Dragon', 'Type 2_Electric', 'Type 2_Fairy', 'Type 2_Fighting',\n",
            "       'Type 2_Fire', 'Type 2_Flying', 'Type 2_Ghost', 'Type 2_Grass',\n",
            "       'Type 2_Ground', 'Type 2_Ice', 'Type 2_Normal', 'Type 2_Poison',\n",
            "       'Type 2_Psychic', 'Type 2_Rock', 'Type 2_Steel', 'Type 2_Water',\n",
            "       'Is_Mono_Type', 'Attack_Defense_Ratio'],\n",
            "      dtype='object')\n"
          ]
        }
      ]
    },
    {
      "cell_type": "code",
      "source": [
        "pokemon_df['Legendary'] = pokemon_df['Legendary'].astype(int)\n"
      ],
      "metadata": {
        "id": "xWk3XqsfhW9R"
      },
      "execution_count": null,
      "outputs": []
    },
    {
      "cell_type": "code",
      "source": [
        "from sklearn.model_selection import train_test_split\n",
        "\n",
        "# Özellikler (X) ve hedef değişken (y) olarak ayır.\n",
        "X = pokemon_df.drop(columns=['Legendary'])\n",
        "y = pokemon_df['Legendary']\n",
        "\n",
        "# Eğitim ve test setlerine %80 - %20 oranında ayır.\n",
        "X_train, X_test, y_train, y_test = train_test_split(X, y, test_size=0.20, random_state=42)\n",
        "\n",
        "# Kontrol amaçlı şekillerini yazdır\n",
        "print(\"X_train shape:\", X_train.shape)\n",
        "print(\"X_test shape:\", X_test.shape)\n",
        "print(\"y_train shape:\", y_train.shape)\n",
        "print(\"y_test shape:\", y_test.shape)\n"
      ],
      "metadata": {
        "colab": {
          "base_uri": "https://localhost:8080/"
        },
        "id": "aVzSaPVchc64",
        "outputId": "2f09ab59-96a6-41cf-eab8-a9e63e197797"
      },
      "execution_count": null,
      "outputs": [
        {
          "output_type": "stream",
          "name": "stdout",
          "text": [
            "X_train shape: (640, 44)\n",
            "X_test shape: (160, 44)\n",
            "y_train shape: (640,)\n",
            "y_test shape: (160,)\n"
          ]
        }
      ]
    },
    {
      "cell_type": "code",
      "source": [
        "# Modelleri tanımla\n",
        "models = {\n",
        "    \"Random Forest\": RandomForestClassifier(random_state=42),\n",
        "    \"SVM\": Pipeline([\n",
        "        (\"scaler\", StandardScaler()),\n",
        "        (\"svc\", SVC(probability=True, random_state=42))\n",
        "    ]),\n",
        "    \"k-NN\": Pipeline([\n",
        "        (\"scaler\", StandardScaler()),\n",
        "        (\"knn\", KNeighborsClassifier())\n",
        "    ]),\n",
        "    \"XGBoost\": XGBClassifier(use_label_encoder=False, eval_metric='logloss', random_state=42),\n",
        "    \"LightGBM\": LGBMClassifier(random_state=42),\n",
        "    \"CatBoost\": CatBoostClassifier(verbose=0, random_state=42)\n",
        "}\n",
        "\n",
        "# Performans metriklerini tutmak için bir dictionary oluştur\n",
        "metrics_results = {}\n",
        "\n",
        "# Tüm modeller için eğitim, tahmin, metrik hesaplama ve confusion matrix\n",
        "for name, model in models.items():\n",
        "    print(f\"\\n--- {name} Eğitimi Başlıyor ---\")\n",
        "    model.fit(X_train, y_train)\n",
        "    y_pred = model.predict(X_test)\n",
        "\n",
        "    # Metrikleri hesapla\n",
        "    acc = accuracy_score(y_test, y_pred)\n",
        "    prec = precision_score(y_test, y_pred)\n",
        "    rec = recall_score(y_test, y_pred)\n",
        "    f1 = f1_score(y_test, y_pred)\n",
        "    cm = confusion_matrix(y_test, y_pred)\n",
        "\n",
        "    metrics_results[name] = {\n",
        "        \"Accuracy\": acc,\n",
        "        \"Precision\": prec,\n",
        "        \"Recall\": rec,\n",
        "        \"F1-score\": f1\n",
        "    }\n",
        "\n",
        "    # Metrik sonuçlarını yazdır\n",
        "    print(f\"{name} - Accuracy:  {acc:.4f}\")\n",
        "    print(f\"{name} - Precision: {prec:.4f}\")\n",
        "    print(f\"{name} - Recall:    {rec:.4f}\")\n",
        "    print(f\"{name} - F1-score:  {f1:.4f}\")\n",
        "\n",
        "    # Confusion matrix görselleştirme\n",
        "    disp = ConfusionMatrixDisplay(confusion_matrix=cm)\n",
        "    disp.plot()\n",
        "    plt.title(f\"Confusion Matrix - {name}\")\n",
        "    plt.show()\n",
        "\n",
        "# Tüm modellerin metrik sonuçlarını bir DataFrame'de göster\n",
        "results_df = pd.DataFrame(metrics_results).T\n",
        "print(\"\\nTüm Modellerin Değerlendirme Metrikleri:\")\n",
        "print(results_df)\n"
      ],
      "metadata": {
        "colab": {
          "base_uri": "https://localhost:8080/",
          "height": 1000
        },
        "id": "10HRH0D-ibSO",
        "outputId": "7d2debe7-8209-4272-fa09-3a49010d4074"
      },
      "execution_count": null,
      "outputs": [
        {
          "output_type": "stream",
          "name": "stdout",
          "text": [
            "\n",
            "--- Random Forest Eğitimi Başlıyor ---\n",
            "Random Forest - Accuracy:  0.9688\n",
            "Random Forest - Precision: 0.7273\n",
            "Random Forest - Recall:    0.8000\n",
            "Random Forest - F1-score:  0.7619\n"
          ]
        },
        {
          "output_type": "display_data",
          "data": {
            "text/plain": [
              "<Figure size 640x480 with 2 Axes>"
            ],
            "image/png": "[encoded data removed]"
          },
          "metadata": {}
        },
        {
          "output_type": "stream",
          "name": "stdout",
          "text": [
            "\n",
            "--- SVM Eğitimi Başlıyor ---\n",
            "SVM - Accuracy:  0.9563\n",
            "SVM - Precision: 0.8000\n",
            "SVM - Recall:    0.4000\n",
            "SVM - F1-score:  0.5333\n"
          ]
        },
        {
          "output_type": "display_data",
          "data": {
            "text/plain": [
              "<Figure size 640x480 with 2 Axes>"
            ],
            "image/png": "[encoded data removed]"
          },
          "metadata": {}
        },
        {
          "output_type": "stream",
          "name": "stdout",
          "text": [
            "\n",
            "--- k-NN Eğitimi Başlıyor ---\n",
            "k-NN - Accuracy:  0.9500\n",
            "k-NN - Precision: 1.0000\n",
            "k-NN - Recall:    0.2000\n",
            "k-NN - F1-score:  0.3333\n"
          ]
        },
        {
          "output_type": "display_data",
          "data": {
            "text/plain": [
              "<Figure size 640x480 with 2 Axes>"
            ],
            "image/png": "[encoded data removed]"
          },
          "metadata": {}
        },
        {
          "output_type": "stream",
          "name": "stdout",
          "text": [
            "\n",
            "--- XGBoost Eğitimi Başlıyor ---\n"
          ]
        },
        {
          "output_type": "stream",
          "name": "stderr",
          "text": [
            "/usr/local/lib/python3.11/dist-packages/xgboost/core.py:158: UserWarning: [13:50:28] WARNING: /workspace/src/learner.cc:740: \n",
            "Parameters: { \"use_label_encoder\" } are not used.\n",
            "\n",
            "  warnings.warn(smsg, UserWarning)\n"
          ]
        },
        {
          "output_type": "stream",
          "name": "stdout",
          "text": [
            "XGBoost - Accuracy:  0.9625\n",
            "XGBoost - Precision: 0.6250\n",
            "XGBoost - Recall:    1.0000\n",
            "XGBoost - F1-score:  0.7692\n"
          ]
        },
        {
          "output_type": "display_data",
          "data": {
            "text/plain": [
              "<Figure size 640x480 with 2 Axes>"
            ],
            "image/png": "[encoded data removed]"
          },
          "metadata": {}
        },
        {
          "output_type": "stream",
          "name": "stdout",
          "text": [
            "\n",
            "--- LightGBM Eğitimi Başlıyor ---\n",
            "[LightGBM] [Warning] Found whitespace in feature_names, replace with underlines\n",
            "[LightGBM] [Info] Number of positive: 55, number of negative: 585\n",
            "[LightGBM] [Info] Auto-choosing col-wise multi-threading, the overhead of testing was 0.004809 seconds.\n",
            "You can set `force_col_wise=true` to remove the overhead.\n",
            "[LightGBM] [Info] Total Bins 732\n",
            "[LightGBM] [Info] Number of data points in the train set: 640, number of used features: 31\n",
            "[LightGBM] [Info] [binary:BoostFromScore]: pavg=0.085938 -> initscore=-2.364279\n",
            "[LightGBM] [Info] Start training from score -2.364279\n",
            "[LightGBM] [Warning] No further splits with positive gain, best gain: -inf\n",
            "[LightGBM] [Warning] No further splits with positive gain, best gain: -inf\n",
            "[LightGBM] [Warning] No further splits with positive gain, best gain: -inf\n",
            "[LightGBM] [Warning] No further splits with positive gain, best gain: -inf\n",
            "[LightGBM] [Warning] No further splits with positive gain, best gain: -inf\n",
            "[LightGBM] [Warning] No further splits with positive gain, best gain: -inf\n",
            "[LightGBM] [Warning] No further splits with positive gain, best gain: -inf\n",
            "[LightGBM] [Warning] No further splits with positive gain, best gain: -inf\n",
            "[LightGBM] [Warning] No further splits with positive gain, best gain: -inf\n",
            "[LightGBM] [Warning] No further splits with positive gain, best gain: -inf\n",
            "[LightGBM] [Warning] No further splits with positive gain, best gain: -inf\n",
            "[LightGBM] [Warning] No further splits with positive gain, best gain: -inf\n",
            "[LightGBM] [Warning] No further splits with positive gain, best gain: -inf\n",
            "[LightGBM] [Warning] No further splits with positive gain, best gain: -inf\n",
            "[LightGBM] [Warning] No further splits with positive gain, best gain: -inf\n",
            "[LightGBM] [Warning] No further splits with positive gain, best gain: -inf\n",
            "[LightGBM] [Warning] No further splits with positive gain, best gain: -inf\n",
            "[LightGBM] [Warning] No further splits with positive gain, best gain: -inf\n",
            "[LightGBM] [Warning] No further splits with positive gain, best gain: -inf\n",
            "[LightGBM] [Warning] No further splits with positive gain, best gain: -inf\n",
            "[LightGBM] [Warning] No further splits with positive gain, best gain: -inf\n",
            "[LightGBM] [Warning] No further splits with positive gain, best gain: -inf\n",
            "[LightGBM] [Warning] No further splits with positive gain, best gain: -inf\n",
            "[LightGBM] [Warning] No further splits with positive gain, best gain: -inf\n",
            "[LightGBM] [Warning] No further splits with positive gain, best gain: -inf\n",
            "[LightGBM] [Warning] No further splits with positive gain, best gain: -inf\n",
            "[LightGBM] [Warning] No further splits with positive gain, best gain: -inf\n",
            "[LightGBM] [Warning] No further splits with positive gain, best gain: -inf\n",
            "[LightGBM] [Warning] No further splits with positive gain, best gain: -inf\n",
            "[LightGBM] [Warning] No further splits with positive gain, best gain: -inf\n",
            "[LightGBM] [Warning] No further splits with positive gain, best gain: -inf\n",
            "[LightGBM] [Warning] No further splits with positive gain, best gain: -inf\n",
            "[LightGBM] [Warning] No further splits with positive gain, best gain: -inf\n",
            "[LightGBM] [Warning] No further splits with positive gain, best gain: -inf\n",
            "[LightGBM] [Warning] No further splits with positive gain, best gain: -inf\n",
            "[LightGBM] [Warning] No further splits with positive gain, best gain: -inf\n",
            "[LightGBM] [Warning] No further splits with positive gain, best gain: -inf\n",
            "[LightGBM] [Warning] No further splits with positive gain, best gain: -inf\n",
            "[LightGBM] [Warning] No further splits with positive gain, best gain: -inf\n",
            "[LightGBM] [Warning] No further splits with positive gain, best gain: -inf\n",
            "[LightGBM] [Warning] No further splits with positive gain, best gain: -inf\n",
            "[LightGBM] [Warning] No further splits with positive gain, best gain: -inf\n",
            "[LightGBM] [Warning] No further splits with positive gain, best gain: -inf\n",
            "[LightGBM] [Warning] No further splits with positive gain, best gain: -inf\n",
            "[LightGBM] [Warning] No further splits with positive gain, best gain: -inf\n",
            "[LightGBM] [Warning] No further splits with positive gain, best gain: -inf\n",
            "[LightGBM] [Warning] No further splits with positive gain, best gain: -inf\n",
            "[LightGBM] [Warning] No further splits with positive gain, best gain: -inf\n",
            "[LightGBM] [Warning] No further splits with positive gain, best gain: -inf\n",
            "[LightGBM] [Warning] No further splits with positive gain, best gain: -inf\n",
            "[LightGBM] [Warning] No further splits with positive gain, best gain: -inf\n",
            "[LightGBM] [Warning] No further splits with positive gain, best gain: -inf\n",
            "[LightGBM] [Warning] No further splits with positive gain, best gain: -inf\n",
            "[LightGBM] [Warning] No further splits with positive gain, best gain: -inf\n",
            "[LightGBM] [Warning] No further splits with positive gain, best gain: -inf\n",
            "[LightGBM] [Warning] No further splits with positive gain, best gain: -inf\n",
            "[LightGBM] [Warning] No further splits with positive gain, best gain: -inf\n",
            "[LightGBM] [Warning] No further splits with positive gain, best gain: -inf\n",
            "[LightGBM] [Warning] No further splits with positive gain, best gain: -inf\n",
            "[LightGBM] [Warning] No further splits with positive gain, best gain: -inf\n",
            "[LightGBM] [Warning] No further splits with positive gain, best gain: -inf\n",
            "[LightGBM] [Warning] No further splits with positive gain, best gain: -inf\n",
            "[LightGBM] [Warning] No further splits with positive gain, best gain: -inf\n",
            "LightGBM - Accuracy:  0.9563\n",
            "LightGBM - Precision: 0.6000\n",
            "LightGBM - Recall:    0.9000\n",
            "LightGBM - F1-score:  0.7200\n"
          ]
        },
        {
          "output_type": "display_data",
          "data": {
            "text/plain": [
              "<Figure size 640x480 with 2 Axes>"
            ],
            "image/png": "[encoded data removed]"
          },
          "metadata": {}
        },
        {
          "output_type": "stream",
          "name": "stdout",
          "text": [
            "\n",
            "--- CatBoost Eğitimi Başlıyor ---\n",
            "CatBoost - Accuracy:  0.9625\n",
            "CatBoost - Precision: 0.6429\n",
            "CatBoost - Recall:    0.9000\n",
            "CatBoost - F1-score:  0.7500\n"
          ]
        },
        {
          "output_type": "display_data",
          "data": {
            "text/plain": [
              "<Figure size 640x480 with 2 Axes>"
            ],
            "image/png": "[encoded data removed]"
          },
          "metadata": {}
        },
        {
          "output_type": "stream",
          "name": "stdout",
          "text": [
            "\n",
            "Tüm Modellerin Değerlendirme Metrikleri:\n",
            "               Accuracy  Precision  Recall  F1-score\n",
            "Random Forest   0.96875   0.727273     0.8  0.761905\n",
            "SVM             0.95625   0.800000     0.4  0.533333\n",
            "k-NN            0.95000   1.000000     0.2  0.333333\n",
            "XGBoost         0.96250   0.625000     1.0  0.769231\n",
            "LightGBM        0.95625   0.600000     0.9  0.720000\n",
            "CatBoost        0.96250   0.642857     0.9  0.750000\n"
          ]
        }
      ]
    },
    {
      "cell_type": "code",
      "source": [
        "# En iyi modeli F1-score'a göre seç\n",
        "best_model_name = max(metrics_results, key=lambda x: metrics_results[x]['F1-score'])\n",
        "best_f1_score = metrics_results[best_model_name]['F1-score']\n",
        "\n",
        "print(f\"En iyi model: {best_model_name} (F1-score: {best_f1_score:.4f})\")\n"
      ],
      "metadata": {
        "colab": {
          "base_uri": "https://localhost:8080/"
        },
        "id": "iQlTN3suism0",
        "outputId": "5d1dcc05-7ff2-4564-dbd9-39ad8f3de866"
      },
      "execution_count": null,
      "outputs": [
        {
          "output_type": "stream",
          "name": "stdout",
          "text": [
            "En iyi model: XGBoost (F1-score: 0.7692)\n"
          ]
        }
      ]
    },
    {
      "cell_type": "code",
      "source": [
        "# Linear Regression benzeri bir model yoksa, sadece örnek olarak 'Logistic Regression' için de benzer yapıyı yazabiliriz.\n",
        "if best_model_name == 'Logistic Regression':\n",
        "    print(\"\\nLogistic Regression için hiper parametre optimizasyonu yapılıyor...\")\n",
        "    param_distributions = {\n",
        "        'logistic__C': [0.01, 0.1, 1, 10, 100],\n",
        "        'logistic__penalty': ['l2'],\n",
        "        'logistic__solver': ['lbfgs']\n",
        "    }\n",
        "    model = Pipeline([\n",
        "        ('scaler', StandardScaler()),\n",
        "        ('logistic', LogisticRegression(max_iter=1000, random_state=42))\n",
        "    ])\n",
        "\n",
        "elif best_model_name == 'Random Forest':\n",
        "    print(\"\\nRandom Forest için hiper parametre optimizasyonu yapılıyor...\")\n",
        "    param_distributions = {\n",
        "        'n_estimators': [100, 200, 300],\n",
        "        'max_depth': [None, 10, 20, 30],\n",
        "        'min_samples_split': [2, 5, 10],\n",
        "        'min_samples_leaf': [1, 2, 4],\n",
        "        'bootstrap': [True, False]\n",
        "    }\n",
        "    model = RandomForestClassifier(random_state=42)\n",
        "\n",
        "elif best_model_name == 'SVM':\n",
        "    print(\"\\nSVM için hiper parametre optimizasyonu yapılıyor...\")\n",
        "    param_distributions = {\n",
        "        'svc__C': [0.1, 1, 10],\n",
        "        'svc__kernel': ['linear', 'rbf'],\n",
        "        'svc__gamma': ['scale', 'auto']\n",
        "    }\n",
        "    model = Pipeline([\n",
        "        ('scaler', StandardScaler()),\n",
        "        ('svc', SVC(random_state=42))\n",
        "    ])\n",
        "\n",
        "elif best_model_name == 'k-NN':\n",
        "    print(\"\\nk-NN için hiper parametre optimizasyonu yapılıyor...\")\n",
        "    param_distributions = {\n",
        "        'knn__n_neighbors': [3, 5, 7, 9],\n",
        "        'knn__weights': ['uniform', 'distance'],\n",
        "        'knn__p': [1, 2]\n",
        "    }\n",
        "    model = Pipeline([\n",
        "        ('scaler', StandardScaler()),\n",
        "        ('knn', KNeighborsClassifier())\n",
        "    ])\n",
        "\n",
        "elif best_model_name == 'XGBoost':\n",
        "    print(\"\\nXGBoost için hiper parametre optimizasyonu yapılıyor...\")\n",
        "    param_distributions = {\n",
        "        'n_estimators': [100, 200],\n",
        "        'max_depth': [3, 5, 7],\n",
        "        'learning_rate': [0.01, 0.1, 0.2],\n",
        "        'subsample': [0.7, 1.0]\n",
        "    }\n",
        "    model = XGBClassifier(use_label_encoder=False, eval_metric='logloss', random_state=42)\n",
        "\n",
        "elif best_model_name == 'LightGBM':\n",
        "    print(\"\\nLightGBM için hiper parametre optimizasyonu yapılıyor...\")\n",
        "    param_distributions = {\n",
        "        'n_estimators': [100, 200],\n",
        "        'max_depth': [-1, 10, 20],\n",
        "        'learning_rate': [0.01, 0.1],\n",
        "        'num_leaves': [31, 50, 100]\n",
        "    }\n",
        "    model = LGBMClassifier(random_state=42)\n",
        "\n",
        "elif best_model_name == 'CatBoost':\n",
        "    print(\"\\nCatBoost için hiper parametre optimizasyonu yapılıyor...\")\n",
        "    param_distributions = {\n",
        "        'iterations': [100, 200],\n",
        "        'depth': [4, 6, 10],\n",
        "        'learning_rate': [0.01, 0.1],\n",
        "        'l2_leaf_reg': [1, 3, 5]\n",
        "    }\n",
        "    model = CatBoostClassifier(verbose=0, random_seed=42)\n",
        "\n",
        "else:\n",
        "    print(f\"\\n{best_model_name} için hiper parametre optimizasyonu yapılmıyor veya model tanımlı değil.\")\n",
        "    #En iyi modeli al, doğrudan kullan.\n",
        "    model = models[best_model_name]\n",
        "    param_distributions = None\n"
      ],
      "metadata": {
        "colab": {
          "base_uri": "https://localhost:8080/"
        },
        "id": "TKN17NSjjxz4",
        "outputId": "d6d2e33c-e588-4fdf-d2d1-e81ce97559c5"
      },
      "execution_count": null,
      "outputs": [
        {
          "output_type": "stream",
          "name": "stdout",
          "text": [
            "\n",
            "XGBoost için hiper parametre optimizasyonu yapılıyor...\n"
          ]
        }
      ]
    },
    {
      "cell_type": "code",
      "source": [
        "from sklearn.model_selection import GridSearchCV\n",
        "from sklearn.metrics import accuracy_score, precision_score, recall_score, f1_score, confusion_matrix\n",
        "import matplotlib.pyplot as plt\n",
        "import seaborn as sns\n",
        "\n",
        "if param_distributions is None:\n",
        "    print(\"Hiperparametre optimizasyonu yapılmıyor.\")\n",
        "    y_pred = model.predict(X_test)\n",
        "else:\n",
        "    grid_search = GridSearchCV(estimator=model,\n",
        "                               param_grid=param_distributions,\n",
        "                               cv=5,\n",
        "                               scoring='accuracy',\n",
        "                               n_jobs=-1,\n",
        "                               verbose=1)\n",
        "    grid_search.fit(X_train, y_train)\n",
        "\n",
        "    print(f\"En iyi doğruluk skoru: {grid_search.best_score_:.4f}\")\n",
        "    print(f\"En iyi parametreler: {grid_search.best_params_}\")\n",
        "\n",
        "    # Optimize edilmiş model\n",
        "    best_model_optimized = grid_search.best_estimator_\n",
        "\n",
        "    # Test seti üzerinde tahmin\n",
        "    y_pred = best_model_optimized.predict(X_test)\n",
        "\n",
        "    # Metrikleri hesapla ve yazdır\n",
        "    acc = accuracy_score(y_test, y_pred)\n",
        "    prec = precision_score(y_test, y_pred)\n",
        "    rec = recall_score(y_test, y_pred)\n",
        "    f1 = f1_score(y_test, y_pred)\n",
        "\n",
        "    print(\"\\nTest Seti Performansı (Optimize edilmiş model):\")\n",
        "    print(f\"Doğruluk (Accuracy): {acc:.4f}\")\n",
        "    print(f\"Precision: {prec:.4f}\")\n",
        "    print(f\"Recall: {rec:.4f}\")\n",
        "    print(f\"F1 Skoru: {f1:.4f}\")\n",
        "\n",
        "    # Confusion matrix çizimi\n",
        "    cm = confusion_matrix(y_test, y_pred)\n",
        "    plt.figure(figsize=(6,4))\n",
        "    sns.heatmap(cm, annot=True, fmt='d', cmap='Blues')\n",
        "    plt.xlabel('Tahmin Edilen')\n",
        "    plt.ylabel('Gerçek')\n",
        "    plt.title('Confusion Matrix')\n",
        "    plt.show()\n"
      ],
      "metadata": {
        "colab": {
          "base_uri": "https://localhost:8080/",
          "height": 662
        },
        "id": "QAmQoCemlpux",
        "outputId": "c77757f8-0b21-4ecd-86db-577b83fe701e"
      },
      "execution_count": null,
      "outputs": [
        {
          "output_type": "stream",
          "name": "stdout",
          "text": [
            "Fitting 5 folds for each of 36 candidates, totalling 180 fits\n"
          ]
        },
        {
          "output_type": "stream",
          "name": "stderr",
          "text": [
            "/usr/local/lib/python3.11/dist-packages/xgboost/core.py:158: UserWarning: [13:51:11] WARNING: /workspace/src/learner.cc:740: \n",
            "Parameters: { \"use_label_encoder\" } are not used.\n",
            "\n",
            "  warnings.warn(smsg, UserWarning)\n"
          ]
        },
        {
          "output_type": "stream",
          "name": "stdout",
          "text": [
            "En iyi doğruluk skoru: 0.9625\n",
            "En iyi parametreler: {'learning_rate': 0.2, 'max_depth': 5, 'n_estimators': 100, 'subsample': 1.0}\n",
            "\n",
            "Test Seti Performansı (Optimize edilmiş model):\n",
            "Doğruluk (Accuracy): 0.9563\n",
            "Precision: 0.6000\n",
            "Recall: 0.9000\n",
            "F1 Skoru: 0.7200\n"
          ]
        },
        {
          "output_type": "display_data",
          "data": {
            "text/plain": [
              "<Figure size 600x400 with 2 Axes>"
            ],
            "image/png": "[encoded data removed]"
          },
          "metadata": {}
        }
      ]
    },
    {
      "cell_type": "code",
      "source": [
        "import matplotlib.pyplot as plt\n",
        "\n",
        "# Örnek skorlar, bunları senin hesaplanıldığı değerlere göre dolduruldu.\n",
        "model_names = ['Random Forest', 'SVM', 'k-NN', 'XGBoost', 'LightGBM', 'CatBoost']\n",
        "accuracies = [0.96250, 0.95652, 0.95000, 0.96250, 0.95625, 0.96250]  # Örnek değerler, kendi sonuçlarınla değiştir\n",
        "\n",
        "plt.figure(figsize=(10,6))\n",
        "bars = plt.bar(model_names, accuracies, color='skyblue')\n",
        "plt.ylim([0.7, 1])\n",
        "plt.ylabel('Accuracy')\n",
        "plt.title('Modellerin Test Setindeki Doğruluk Skorları')\n",
        "\n",
        "# Her barın üstüne skor değerini yazdırma.\n",
        "for bar, acc in zip(bars, accuracies):\n",
        "    plt.text(bar.get_x() + bar.get_width()/2 - 0.1, bar.get_height() - 0.05, f\"{acc:.2f}\", fontsize=12, color='black')\n",
        "\n",
        "plt.show()\n"
      ],
      "metadata": {
        "colab": {
          "base_uri": "https://localhost:8080/",
          "height": 508
        },
        "id": "qpxFu3Y1mcxw",
        "outputId": "1e02fa47-0afa-4bda-ee47-c71bdf7597b7"
      },
      "execution_count": null,
      "outputs": [
        {
          "output_type": "display_data",
          "data": {
            "text/plain": [
              "<Figure size 1000x600 with 1 Axes>"
            ],
            "image/png": "[encoded data removed]"
          },
          "metadata": {}
        }
      ]
    },
    {
      "cell_type": "code",
      "source": [
        "import pandas as pd\n",
        "import numpy as np\n",
        "\n",
        "best_model = best_model_optimized\n",
        "\n",
        "\n",
        "# Özellik isimleri (X_train sütunları)\n",
        "feature_names = X_train.columns\n",
        "\n",
        "# Özellik önem skorları.\n",
        "importances = best_model.feature_importances_\n",
        "\n",
        "# DataFrame oluştur.\n",
        "feat_importances = pd.DataFrame({'Feature': feature_names, 'Importance': importances})\n",
        "feat_importances.sort_values(by='Importance', ascending=False, inplace=True)\n",
        "\n",
        "# İlk 10 önemli özellik.\n",
        "print(feat_importances.head(10))\n",
        "\n",
        "# Grafikle gösterim.\n",
        "plt.figure(figsize=(10,6))\n",
        "plt.barh(feat_importances['Feature'].head(10)[::-1], feat_importances['Importance'].head(10)[::-1], color='lightgreen')\n",
        "plt.xlabel('Özellik Önemi')\n",
        "plt.title('En Önemli 10 Özellik')\n",
        "plt.show()\n"
      ],
      "metadata": {
        "colab": {
          "base_uri": "https://localhost:8080/",
          "height": 685
        },
        "id": "eEVlJHlfmeR7",
        "outputId": "929e4146-a640-4cf2-ff42-7e0b182716d7"
      },
      "execution_count": null,
      "outputs": [
        {
          "output_type": "stream",
          "name": "stdout",
          "text": [
            "            Feature  Importance\n",
            "0             Total    0.571702\n",
            "24     Type 1_Water    0.090624\n",
            "29  Type 2_Fighting    0.054601\n",
            "2            Attack    0.045658\n",
            "7        Generation    0.044422\n",
            "1                HP    0.033717\n",
            "42     Is_Mono_Type    0.032240\n",
            "31    Type 2_Flying    0.029605\n",
            "4           Sp. Atk    0.029491\n",
            "3           Defense    0.028666\n"
          ]
        },
        {
          "output_type": "display_data",
          "data": {
            "text/plain": [
              "<Figure size 1000x600 with 1 Axes>"
            ],
            "image/png": "[encoded data removed]"
          },
          "metadata": {}
        }
      ]
    },
    {
      "cell_type": "code",
      "source": [
        "from google.colab import files\n",
        "uploaded = files.upload()\n",
        "\n"
      ],
      "metadata": {
        "colab": {
          "base_uri": "https://localhost:8080/",
          "height": 74
        },
        "id": "rr65qJ2_Nnlh",
        "outputId": "efb65649-377a-4777-e7d2-9a9d5641fc9d"
      },
      "execution_count": null,
      "outputs": [
        {
          "output_type": "display_data",
          "data": {
            "text/plain": [
              "<IPython.core.display.HTML object>"
            ],
            "text/html": [
              "\n",
              "     <input type=\"file\" id=\"files-43e4ad18-46c0-43a1-baf7-3e57321631ce\" name=\"files[]\" multiple disabled\n",
              "        style=\"border:none\" />\n",
              "     <output id=\"result-43e4ad18-46c0-43a1-baf7-3e57321631ce\">\n",
              "      Upload widget is only available when the cell has been executed in the\n",
              "      current browser session. Please rerun this cell to enable.\n",
              "      </output>\n",
              "      <script>// Copyright 2017 Google LLC\n",
              "//\n",
              "// Licensed under the Apache License, Version 2.0 (the \"License\");\n",
              "// you may not use this file except in compliance with the License.\n",
              "// You may obtain a copy of the License at\n",
              "//\n",
              "//      http://www.apache.org/licenses/LICENSE-2.0\n",
              "//\n",
              "// Unless required by applicable law or agreed to in writing, software\n",
              "// distributed under the License is distributed on an \"AS IS\" BASIS,\n",
              "// WITHOUT WARRANTIES OR CONDITIONS OF ANY KIND, either express or implied.\n",
              "// See the License for the specific language governing permissions and\n",
              "// limitations under the License.\n",
              "\n",
              "/**\n",
              " * @fileoverview Helpers for google.colab Python module.\n",
              " */\n",
              "(function(scope) {\n",
              "function span(text, styleAttributes = {}) {\n",
              "  const element = document.createElement('span');\n",
              "  element.textContent = text;\n",
              "  for (const key of Object.keys(styleAttributes)) {\n",
              "    element.style[key] = styleAttributes[key];\n",
              "  }\n",
              "  return element;\n",
              "}\n",
              "\n",
              "// Max number of bytes which will be uploaded at a time.\n",
              "const MAX_PAYLOAD_SIZE = 100 * 1024;\n",
              "\n",
              "function _uploadFiles(inputId, outputId) {\n",
              "  const steps = uploadFilesStep(inputId, outputId);\n",
              "  const outputElement = document.getElementById(outputId);\n",
              "  // Cache steps on the outputElement to make it available for the next call\n",
              "  // to uploadFilesContinue from Python.\n",
              "  outputElement.steps = steps;\n",
              "\n",
              "  return _uploadFilesContinue(outputId);\n",
              "}\n",
              "\n",
              "// This is roughly an async generator (not supported in the browser yet),\n",
              "// where there are multiple asynchronous steps and the Python side is going\n",
              "// to poll for completion of each step.\n",
              "// This uses a Promise to block the python side on completion of each step,\n",
              "// then passes the result of the previous step as the input to the next step.\n",
              "function _uploadFilesContinue(outputId) {\n",
              "  const outputElement = document.getElementById(outputId);\n",
              "  const steps = outputElement.steps;\n",
              "\n",
              "  const next = steps.next(outputElement.lastPromiseValue);\n",
              "  return Promise.resolve(next.value.promise).then((value) => {\n",
              "    // Cache the last promise value to make it available to the next\n",
              "    // step of the generator.\n",
              "    outputElement.lastPromiseValue = value;\n",
              "    return next.value.response;\n",
              "  });\n",
              "}\n",
              "\n",
              "/**\n",
              " * Generator function which is called between each async step of the upload\n",
              " * process.\n",
              " * @param {string} inputId Element ID of the input file picker element.\n",
              " * @param {string} outputId Element ID of the output display.\n",
              " * @return {!Iterable<!Object>} Iterable of next steps.\n",
              " */\n",
              "function* uploadFilesStep(inputId, outputId) {\n",
              "  const inputElement = document.getElementById(inputId);\n",
              "  inputElement.disabled = false;\n",
              "\n",
              "  const outputElement = document.getElementById(outputId);\n",
              "  outputElement.innerHTML = '';\n",
              "\n",
              "  const pickedPromise = new Promise((resolve) => {\n",
              "    inputElement.addEventListener('change', (e) => {\n",
              "      resolve(e.target.files);\n",
              "    });\n",
              "  });\n",
              "\n",
              "  const cancel = document.createElement('button');\n",
              "  inputElement.parentElement.appendChild(cancel);\n",
              "  cancel.textContent = 'Cancel upload';\n",
              "  const cancelPromise = new Promise((resolve) => {\n",
              "    cancel.onclick = () => {\n",
              "      resolve(null);\n",
              "    };\n",
              "  });\n",
              "\n",
              "  // Wait for the user to pick the files.\n",
              "  const files = yield {\n",
              "    promise: Promise.race([pickedPromise, cancelPromise]),\n",
              "    response: {\n",
              "      action: 'starting',\n",
              "    }\n",
              "  };\n",
              "\n",
              "  cancel.remove();\n",
              "\n",
              "  // Disable the input element since further picks are not allowed.\n",
              "  inputElement.disabled = true;\n",
              "\n",
              "  if (!files) {\n",
              "    return {\n",
              "      response: {\n",
              "        action: 'complete',\n",
              "      }\n",
              "    };\n",
              "  }\n",
              "\n",
              "  for (const file of files) {\n",
              "    const li = document.createElement('li');\n",
              "    li.append(span(file.name, {fontWeight: 'bold'}));\n",
              "    li.append(span(\n",
              "        `(${file.type || 'n/a'}) - ${file.size} bytes, ` +\n",
              "        `last modified: ${\n",
              "            file.lastModifiedDate ? file.lastModifiedDate.toLocaleDateString() :\n",
              "                                    'n/a'} - `));\n",
              "    const percent = span('0% done');\n",
              "    li.appendChild(percent);\n",
              "\n",
              "    outputElement.appendChild(li);\n",
              "\n",
              "    const fileDataPromise = new Promise((resolve) => {\n",
              "      const reader = new FileReader();\n",
              "      reader.onload = (e) => {\n",
              "        resolve(e.target.result);\n",
              "      };\n",
              "      reader.readAsArrayBuffer(file);\n",
              "    });\n",
              "    // Wait for the data to be ready.\n",
              "    let fileData = yield {\n",
              "      promise: fileDataPromise,\n",
              "      response: {\n",
              "        action: 'continue',\n",
              "      }\n",
              "    };\n",
              "\n",
              "    // Use a chunked sending to avoid message size limits. See b/62115660.\n",
              "    let position = 0;\n",
              "    do {\n",
              "      const length = Math.min(fileData.byteLength - position, MAX_PAYLOAD_SIZE);\n",
              "      const chunk = new Uint8Array(fileData, position, length);\n",
              "      position += length;\n",
              "\n",
              "      const base64 = btoa(String.fromCharCode.apply(null, chunk));\n",
              "      yield {\n",
              "        response: {\n",
              "          action: 'append',\n",
              "          file: file.name,\n",
              "          data: base64,\n",
              "        },\n",
              "      };\n",
              "\n",
              "      let percentDone = fileData.byteLength === 0 ?\n",
              "          100 :\n",
              "          Math.round((position / fileData.byteLength) * 100);\n",
              "      percent.textContent = `${percentDone}% done`;\n",
              "\n",
              "    } while (position < fileData.byteLength);\n",
              "  }\n",
              "\n",
              "  // All done.\n",
              "  yield {\n",
              "    response: {\n",
              "      action: 'complete',\n",
              "    }\n",
              "  };\n",
              "}\n",
              "\n",
              "scope.google = scope.google || {};\n",
              "scope.google.colab = scope.google.colab || {};\n",
              "scope.google.colab._files = {\n",
              "  _uploadFiles,\n",
              "  _uploadFilesContinue,\n",
              "};\n",
              "})(self);\n",
              "</script> "
            ]
          },
          "metadata": {}
        },
        {
          "output_type": "stream",
          "name": "stdout",
          "text": [
            "Saving Pokemon.csv to Pokemon (1).csv\n"
          ]
        }
      ]
    },
    {
      "cell_type": "code",
      "source": [
        "from imblearn.over_sampling import SMOTE\n",
        "from sklearn.ensemble import RandomForestClassifier\n",
        "\n",
        "# SMOTE uygulama (X_train ve y_train üzerinde).\n",
        "smote = SMOTE(random_state=42)\n",
        "X_train_smote, y_train_smote = smote.fit_resample(X_train, y_train)\n",
        "\n",
        "# Modeli tekrar eğitme.\n",
        "best_model = RandomForestClassifier(random_state=42)\n",
        "best_model.fit(X_train_smote, y_train_smote)\n",
        "\n",
        "# Test setinde tahmin yapma.\n",
        "y_pred_after = best_model.predict(X_test)\n",
        "\n"
      ],
      "metadata": {
        "id": "95HZWrWpOrG9"
      },
      "execution_count": null,
      "outputs": []
    },
    {
      "cell_type": "code",
      "source": [
        "# Type 1 bilgilerini test setine ekleme.\n",
        "X_test_with_type = X_test.copy()\n",
        "X_test_with_type['Type 1'] = pokemon_df_original.loc[X_test.index, 'Type 1'].values\n",
        "\n",
        "# Gerçek ve tahminleri ekleme.\n",
        "X_test_with_type['Gerçek'] = y_test.values\n",
        "X_test_with_type['Tahmin'] = y_pred_after\n"
      ],
      "metadata": {
        "id": "UcA5-l8pQIwz"
      },
      "execution_count": null,
      "outputs": []
    },
    {
      "cell_type": "code",
      "source": [
        "# Hatalı tahminleri seçme.\n",
        "errors = X_test_with_type[X_test_with_type['Gerçek'] != X_test_with_type['Tahmin']]\n"
      ],
      "metadata": {
        "id": "AMlrs-q4QNsq"
      },
      "execution_count": null,
      "outputs": []
    },
    {
      "cell_type": "code",
      "source": [
        "# Type 1'e göre hata sayısını hesaplama.\n",
        "error_counts_by_type = errors['Type 1'].value_counts()\n",
        "\n",
        "# En çok hata yapılan ilk 5 türü yazdırma.\n",
        "print(\"En çok hata yapılan Pokémon türleri:\")\n",
        "print(error_counts_by_type.head())\n"
      ],
      "metadata": {
        "colab": {
          "base_uri": "https://localhost:8080/"
        },
        "id": "6cjpL-cSQPMK",
        "outputId": "c6e839e8-ee48-4665-e7c5-24cddb54ed96"
      },
      "execution_count": null,
      "outputs": [
        {
          "output_type": "stream",
          "name": "stdout",
          "text": [
            "En çok hata yapılan Pokémon türleri:\n",
            "Type 1\n",
            "Normal     2\n",
            "Rock       2\n",
            "Dragon     2\n",
            "Dark       1\n",
            "Psychic    1\n",
            "Name: count, dtype: int64\n"
          ]
        }
      ]
    },
    {
      "cell_type": "code",
      "source": [
        "import matplotlib.pyplot as plt\n",
        "\n",
        "plt.figure(figsize=(10,6))\n",
        "error_counts_by_type.head(10).plot(kind='bar', color='salmon')\n",
        "plt.title('Type 1 Bazında En Çok Hata Yapılan Pokémon Türleri')\n",
        "plt.xlabel('Pokémon Türü (Type 1)')\n",
        "plt.ylabel('Hata Sayısı')\n",
        "plt.xticks(rotation=45)\n",
        "plt.grid(axis='y', linestyle='--', alpha=0.7)\n",
        "plt.tight_layout()\n",
        "plt.show()\n"
      ],
      "metadata": {
        "id": "D9ckJcxVQUpg",
        "outputId": "7c7bdf6a-86f3-43f5-e87f-b8744f0160b7",
        "colab": {
          "base_uri": "https://localhost:8080/",
          "height": 491
        }
      },
      "execution_count": null,
      "outputs": [
        {
          "output_type": "display_data",
          "data": {
            "text/plain": [
              "<Figure size 1000x600 with 1 Axes>"
            ],
            "image/png": "[encoded data removed]"
          },
          "metadata": {}
        }
      ]
    },
    {
      "cell_type": "markdown",
      "source": [
        "En çok hata yapılan tür Normal."
      ],
      "metadata": {
        "id": "VSiseqWwNm48"
      }
    }
  ]
}